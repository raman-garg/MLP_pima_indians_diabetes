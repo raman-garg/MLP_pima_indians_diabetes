{
 "cells": [
  {
   "cell_type": "code",
   "execution_count": 1,
   "metadata": {},
   "outputs": [],
   "source": [
    "#importing required libraries\n",
    "import numpy as np\n",
    "import pandas as pd\n",
    "import matplotlib.pyplot as plt\n",
    "%matplotlib inline "
   ]
  },
  {
   "cell_type": "code",
   "execution_count": 2,
   "metadata": {},
   "outputs": [],
   "source": [
    "#importing the dataset and the headers of the columns\n",
    "diabetes_df = pd.read_csv(\"pima_indians_diabetes_dataset.csv\", names=['Pregnancies', 'Glucose', 'BloodPressure', 'SkinThickness', 'Insulin', 'BMI', 'DiabetesPedigreeFunction', 'Age', 'Outcome'])"
   ]
  },
  {
   "cell_type": "code",
   "execution_count": 3,
   "metadata": {},
   "outputs": [
    {
     "data": {
      "text/html": [
       "<div>\n",
       "<style scoped>\n",
       "    .dataframe tbody tr th:only-of-type {\n",
       "        vertical-align: middle;\n",
       "    }\n",
       "\n",
       "    .dataframe tbody tr th {\n",
       "        vertical-align: top;\n",
       "    }\n",
       "\n",
       "    .dataframe thead th {\n",
       "        text-align: right;\n",
       "    }\n",
       "</style>\n",
       "<table border=\"1\" class=\"dataframe\">\n",
       "  <thead>\n",
       "    <tr style=\"text-align: right;\">\n",
       "      <th></th>\n",
       "      <th>Pregnancies</th>\n",
       "      <th>Glucose</th>\n",
       "      <th>BloodPressure</th>\n",
       "      <th>SkinThickness</th>\n",
       "      <th>Insulin</th>\n",
       "      <th>BMI</th>\n",
       "      <th>DiabetesPedigreeFunction</th>\n",
       "      <th>Age</th>\n",
       "      <th>Outcome</th>\n",
       "    </tr>\n",
       "  </thead>\n",
       "  <tbody>\n",
       "    <tr>\n",
       "      <th>0</th>\n",
       "      <td>6</td>\n",
       "      <td>148</td>\n",
       "      <td>72</td>\n",
       "      <td>35</td>\n",
       "      <td>0</td>\n",
       "      <td>33.6</td>\n",
       "      <td>0.627</td>\n",
       "      <td>50</td>\n",
       "      <td>1</td>\n",
       "    </tr>\n",
       "    <tr>\n",
       "      <th>1</th>\n",
       "      <td>1</td>\n",
       "      <td></td>\n",
       "      <td>66</td>\n",
       "      <td>29</td>\n",
       "      <td>0</td>\n",
       "      <td>26.6</td>\n",
       "      <td>0.351</td>\n",
       "      <td>31</td>\n",
       "      <td>0</td>\n",
       "    </tr>\n",
       "    <tr>\n",
       "      <th>2</th>\n",
       "      <td>8</td>\n",
       "      <td>183</td>\n",
       "      <td>64</td>\n",
       "      <td>0</td>\n",
       "      <td>0</td>\n",
       "      <td>23.3</td>\n",
       "      <td>0.672</td>\n",
       "      <td>32</td>\n",
       "      <td>1</td>\n",
       "    </tr>\n",
       "    <tr>\n",
       "      <th>3</th>\n",
       "      <td>1</td>\n",
       "      <td>89</td>\n",
       "      <td>66</td>\n",
       "      <td>23</td>\n",
       "      <td>94</td>\n",
       "      <td>28.1</td>\n",
       "      <td>0.167</td>\n",
       "      <td>21</td>\n",
       "      <td>0</td>\n",
       "    </tr>\n",
       "    <tr>\n",
       "      <th>4</th>\n",
       "      <td>0</td>\n",
       "      <td>137</td>\n",
       "      <td>40</td>\n",
       "      <td>35</td>\n",
       "      <td>168</td>\n",
       "      <td>43.1</td>\n",
       "      <td></td>\n",
       "      <td>33</td>\n",
       "      <td>1</td>\n",
       "    </tr>\n",
       "  </tbody>\n",
       "</table>\n",
       "</div>"
      ],
      "text/plain": [
       "   Pregnancies Glucose BloodPressure SkinThickness Insulin   BMI  \\\n",
       "0            6     148            72            35       0  33.6   \n",
       "1            1                    66            29       0  26.6   \n",
       "2            8     183            64             0       0  23.3   \n",
       "3            1      89            66            23      94  28.1   \n",
       "4            0     137            40            35     168  43.1   \n",
       "\n",
       "  DiabetesPedigreeFunction Age  Outcome  \n",
       "0                    0.627  50        1  \n",
       "1                    0.351  31        0  \n",
       "2                    0.672  32        1  \n",
       "3                    0.167  21        0  \n",
       "4                           33        1  "
      ]
     },
     "execution_count": 3,
     "metadata": {},
     "output_type": "execute_result"
    }
   ],
   "source": [
    "#First 5 rows of dataset\n",
    "diabetes_df.head()"
   ]
  },
  {
   "cell_type": "code",
   "execution_count": 4,
   "metadata": {},
   "outputs": [
    {
     "data": {
      "text/plain": [
       "(768, 9)"
      ]
     },
     "execution_count": 4,
     "metadata": {},
     "output_type": "execute_result"
    }
   ],
   "source": [
    "#Shape of dataset\n",
    "diabetes_df.shape"
   ]
  },
  {
   "cell_type": "code",
   "execution_count": 5,
   "metadata": {},
   "outputs": [
    {
     "name": "stdout",
     "output_type": "stream",
     "text": [
      "<class 'pandas.core.frame.DataFrame'>\n",
      "RangeIndex: 768 entries, 0 to 767\n",
      "Data columns (total 9 columns):\n",
      " #   Column                    Non-Null Count  Dtype \n",
      "---  ------                    --------------  ----- \n",
      " 0   Pregnancies               768 non-null    int64 \n",
      " 1   Glucose                   768 non-null    object\n",
      " 2   BloodPressure             768 non-null    object\n",
      " 3   SkinThickness             768 non-null    object\n",
      " 4   Insulin                   768 non-null    object\n",
      " 5   BMI                       768 non-null    object\n",
      " 6   DiabetesPedigreeFunction  768 non-null    object\n",
      " 7   Age                       768 non-null    object\n",
      " 8   Outcome                   768 non-null    int64 \n",
      "dtypes: int64(2), object(7)\n",
      "memory usage: 54.1+ KB\n"
     ]
    }
   ],
   "source": [
    "diabetes_df.info()"
   ]
  },
  {
   "cell_type": "code",
   "execution_count": 6,
   "metadata": {},
   "outputs": [],
   "source": [
    "#converting object type column to numeric\n",
    "diabetes_df['Glucose'] = pd.to_numeric(diabetes_df['Glucose'],errors='coerce')\n",
    "diabetes_df['BloodPressure'] = pd.to_numeric(diabetes_df['BloodPressure'],errors='coerce')\n",
    "diabetes_df['SkinThickness'] = pd.to_numeric(diabetes_df['SkinThickness'],errors='coerce')\n",
    "diabetes_df['Insulin'] = pd.to_numeric(diabetes_df['Insulin'],errors='coerce')\n",
    "diabetes_df['BMI'] = pd.to_numeric(diabetes_df['BMI'],errors='coerce')\n",
    "diabetes_df['DiabetesPedigreeFunction'] = pd.to_numeric(diabetes_df['DiabetesPedigreeFunction'],errors='coerce')\n",
    "diabetes_df['Age'] = pd.to_numeric(diabetes_df['Age'],errors='coerce')"
   ]
  },
  {
   "cell_type": "code",
   "execution_count": 7,
   "metadata": {},
   "outputs": [
    {
     "name": "stdout",
     "output_type": "stream",
     "text": [
      "<class 'pandas.core.frame.DataFrame'>\n",
      "RangeIndex: 768 entries, 0 to 767\n",
      "Data columns (total 9 columns):\n",
      " #   Column                    Non-Null Count  Dtype  \n",
      "---  ------                    --------------  -----  \n",
      " 0   Pregnancies               768 non-null    int64  \n",
      " 1   Glucose                   762 non-null    float64\n",
      " 2   BloodPressure             766 non-null    float64\n",
      " 3   SkinThickness             764 non-null    float64\n",
      " 4   Insulin                   760 non-null    float64\n",
      " 5   BMI                       760 non-null    float64\n",
      " 6   DiabetesPedigreeFunction  762 non-null    float64\n",
      " 7   Age                       764 non-null    float64\n",
      " 8   Outcome                   768 non-null    int64  \n",
      "dtypes: float64(7), int64(2)\n",
      "memory usage: 54.1 KB\n"
     ]
    }
   ],
   "source": [
    "diabetes_df.info()"
   ]
  },
  {
   "cell_type": "code",
   "execution_count": 8,
   "metadata": {},
   "outputs": [
    {
     "data": {
      "text/html": [
       "<div>\n",
       "<style scoped>\n",
       "    .dataframe tbody tr th:only-of-type {\n",
       "        vertical-align: middle;\n",
       "    }\n",
       "\n",
       "    .dataframe tbody tr th {\n",
       "        vertical-align: top;\n",
       "    }\n",
       "\n",
       "    .dataframe thead th {\n",
       "        text-align: right;\n",
       "    }\n",
       "</style>\n",
       "<table border=\"1\" class=\"dataframe\">\n",
       "  <thead>\n",
       "    <tr style=\"text-align: right;\">\n",
       "      <th></th>\n",
       "      <th>Pregnancies</th>\n",
       "      <th>Glucose</th>\n",
       "      <th>BloodPressure</th>\n",
       "      <th>SkinThickness</th>\n",
       "      <th>Insulin</th>\n",
       "      <th>BMI</th>\n",
       "      <th>DiabetesPedigreeFunction</th>\n",
       "      <th>Age</th>\n",
       "      <th>Outcome</th>\n",
       "    </tr>\n",
       "  </thead>\n",
       "  <tbody>\n",
       "    <tr>\n",
       "      <th>count</th>\n",
       "      <td>768.000000</td>\n",
       "      <td>762.000000</td>\n",
       "      <td>766.000000</td>\n",
       "      <td>764.000000</td>\n",
       "      <td>760.000000</td>\n",
       "      <td>760.000000</td>\n",
       "      <td>762.000000</td>\n",
       "      <td>764.000000</td>\n",
       "      <td>768.000000</td>\n",
       "    </tr>\n",
       "    <tr>\n",
       "      <th>mean</th>\n",
       "      <td>3.845052</td>\n",
       "      <td>120.795276</td>\n",
       "      <td>69.204961</td>\n",
       "      <td>20.460733</td>\n",
       "      <td>78.634211</td>\n",
       "      <td>31.982500</td>\n",
       "      <td>0.469514</td>\n",
       "      <td>33.218586</td>\n",
       "      <td>0.348958</td>\n",
       "    </tr>\n",
       "    <tr>\n",
       "      <th>std</th>\n",
       "      <td>3.369578</td>\n",
       "      <td>31.976298</td>\n",
       "      <td>19.217395</td>\n",
       "      <td>15.950358</td>\n",
       "      <td>114.308624</td>\n",
       "      <td>7.904179</td>\n",
       "      <td>0.325778</td>\n",
       "      <td>11.735647</td>\n",
       "      <td>0.476951</td>\n",
       "    </tr>\n",
       "    <tr>\n",
       "      <th>min</th>\n",
       "      <td>0.000000</td>\n",
       "      <td>0.000000</td>\n",
       "      <td>0.000000</td>\n",
       "      <td>0.000000</td>\n",
       "      <td>0.000000</td>\n",
       "      <td>0.000000</td>\n",
       "      <td>0.078000</td>\n",
       "      <td>21.000000</td>\n",
       "      <td>0.000000</td>\n",
       "    </tr>\n",
       "    <tr>\n",
       "      <th>25%</th>\n",
       "      <td>1.000000</td>\n",
       "      <td>99.000000</td>\n",
       "      <td>64.000000</td>\n",
       "      <td>0.000000</td>\n",
       "      <td>0.000000</td>\n",
       "      <td>27.300000</td>\n",
       "      <td>0.241500</td>\n",
       "      <td>24.000000</td>\n",
       "      <td>0.000000</td>\n",
       "    </tr>\n",
       "    <tr>\n",
       "      <th>50%</th>\n",
       "      <td>3.000000</td>\n",
       "      <td>117.000000</td>\n",
       "      <td>72.000000</td>\n",
       "      <td>23.000000</td>\n",
       "      <td>22.500000</td>\n",
       "      <td>32.000000</td>\n",
       "      <td>0.370500</td>\n",
       "      <td>29.000000</td>\n",
       "      <td>0.000000</td>\n",
       "    </tr>\n",
       "    <tr>\n",
       "      <th>75%</th>\n",
       "      <td>6.000000</td>\n",
       "      <td>140.000000</td>\n",
       "      <td>80.000000</td>\n",
       "      <td>32.000000</td>\n",
       "      <td>126.000000</td>\n",
       "      <td>36.600000</td>\n",
       "      <td>0.622750</td>\n",
       "      <td>41.000000</td>\n",
       "      <td>1.000000</td>\n",
       "    </tr>\n",
       "    <tr>\n",
       "      <th>max</th>\n",
       "      <td>17.000000</td>\n",
       "      <td>199.000000</td>\n",
       "      <td>122.000000</td>\n",
       "      <td>99.000000</td>\n",
       "      <td>846.000000</td>\n",
       "      <td>67.100000</td>\n",
       "      <td>2.420000</td>\n",
       "      <td>81.000000</td>\n",
       "      <td>1.000000</td>\n",
       "    </tr>\n",
       "  </tbody>\n",
       "</table>\n",
       "</div>"
      ],
      "text/plain": [
       "       Pregnancies     Glucose  BloodPressure  SkinThickness     Insulin  \\\n",
       "count   768.000000  762.000000     766.000000     764.000000  760.000000   \n",
       "mean      3.845052  120.795276      69.204961      20.460733   78.634211   \n",
       "std       3.369578   31.976298      19.217395      15.950358  114.308624   \n",
       "min       0.000000    0.000000       0.000000       0.000000    0.000000   \n",
       "25%       1.000000   99.000000      64.000000       0.000000    0.000000   \n",
       "50%       3.000000  117.000000      72.000000      23.000000   22.500000   \n",
       "75%       6.000000  140.000000      80.000000      32.000000  126.000000   \n",
       "max      17.000000  199.000000     122.000000      99.000000  846.000000   \n",
       "\n",
       "              BMI  DiabetesPedigreeFunction         Age     Outcome  \n",
       "count  760.000000                762.000000  764.000000  768.000000  \n",
       "mean    31.982500                  0.469514   33.218586    0.348958  \n",
       "std      7.904179                  0.325778   11.735647    0.476951  \n",
       "min      0.000000                  0.078000   21.000000    0.000000  \n",
       "25%     27.300000                  0.241500   24.000000    0.000000  \n",
       "50%     32.000000                  0.370500   29.000000    0.000000  \n",
       "75%     36.600000                  0.622750   41.000000    1.000000  \n",
       "max     67.100000                  2.420000   81.000000    1.000000  "
      ]
     },
     "execution_count": 8,
     "metadata": {},
     "output_type": "execute_result"
    }
   ],
   "source": [
    "diabetes_df.describe()"
   ]
  },
  {
   "cell_type": "code",
   "execution_count": 9,
   "metadata": {},
   "outputs": [
    {
     "data": {
      "text/plain": [
       "0    500\n",
       "1    268\n",
       "Name: Outcome, dtype: int64"
      ]
     },
     "execution_count": 9,
     "metadata": {},
     "output_type": "execute_result"
    }
   ],
   "source": [
    "diabetes_df['Outcome'].value_counts()"
   ]
  },
  {
   "cell_type": "code",
   "execution_count": 10,
   "metadata": {},
   "outputs": [
    {
     "name": "stdout",
     "output_type": "stream",
     "text": [
      "Pregnancies                   0\n",
      "Glucose                      11\n",
      "BloodPressure                36\n",
      "SkinThickness               231\n",
      "Insulin                     382\n",
      "BMI                          19\n",
      "DiabetesPedigreeFunction      6\n",
      "Age                           4\n",
      "Outcome                       0\n",
      "dtype: int64\n"
     ]
    }
   ],
   "source": [
    "#copying he data set to other data set to update 0 and NaN value, except Outcome column\n",
    "diabetes_df_copy = diabetes_df.copy(deep = True)\n",
    "diabetes_df_copy[['Glucose','BloodPressure','SkinThickness','Insulin','BMI']] = diabetes_df_copy[['Glucose','BloodPressure','SkinThickness','Insulin','BMI']].replace(0,np.NaN)\n",
    "\n",
    "#showing the count of NaNs\n",
    "print(diabetes_df_copy.isnull().sum())"
   ]
  },
  {
   "cell_type": "code",
   "execution_count": 11,
   "metadata": {},
   "outputs": [],
   "source": [
    "#Filling the NaN values with mean or median\n",
    "diabetes_df_copy['Glucose'].fillna(diabetes_df_copy['Glucose'].mean(), inplace = True)\n",
    "diabetes_df_copy['BloodPressure'].fillna(diabetes_df_copy['BloodPressure'].mean(), inplace = True)\n",
    "diabetes_df_copy['SkinThickness'].fillna(diabetes_df_copy['SkinThickness'].median(), inplace = True)\n",
    "diabetes_df_copy['Insulin'].fillna(diabetes_df_copy['Insulin'].median(), inplace = True)\n",
    "diabetes_df_copy['BMI'].fillna(diabetes_df_copy['BMI'].median(), inplace = True)\n",
    "diabetes_df_copy['Age'].fillna(diabetes_df_copy['Age'].median(), inplace = True)\n",
    "diabetes_df_copy['DiabetesPedigreeFunction'].fillna(diabetes_df_copy['DiabetesPedigreeFunction'].median(), inplace = True)"
   ]
  },
  {
   "cell_type": "code",
   "execution_count": 12,
   "metadata": {},
   "outputs": [
    {
     "name": "stdout",
     "output_type": "stream",
     "text": [
      "<class 'pandas.core.frame.DataFrame'>\n",
      "RangeIndex: 768 entries, 0 to 767\n",
      "Data columns (total 9 columns):\n",
      " #   Column                    Non-Null Count  Dtype  \n",
      "---  ------                    --------------  -----  \n",
      " 0   Pregnancies               768 non-null    int64  \n",
      " 1   Glucose                   768 non-null    float64\n",
      " 2   BloodPressure             768 non-null    float64\n",
      " 3   SkinThickness             768 non-null    float64\n",
      " 4   Insulin                   768 non-null    float64\n",
      " 5   BMI                       768 non-null    float64\n",
      " 6   DiabetesPedigreeFunction  768 non-null    float64\n",
      " 7   Age                       768 non-null    float64\n",
      " 8   Outcome                   768 non-null    int64  \n",
      "dtypes: float64(7), int64(2)\n",
      "memory usage: 54.1 KB\n"
     ]
    }
   ],
   "source": [
    "diabetes_df_copy.info()"
   ]
  },
  {
   "cell_type": "code",
   "execution_count": 13,
   "metadata": {},
   "outputs": [
    {
     "name": "stderr",
     "output_type": "stream",
     "text": [
      "Using TensorFlow backend.\n"
     ]
    }
   ],
   "source": [
    "#Importing Keras model and layers\n",
    "from keras.models import Sequential\n",
    "from keras.layers import Dense"
   ]
  },
  {
   "cell_type": "code",
   "execution_count": 14,
   "metadata": {},
   "outputs": [],
   "source": [
    "#Seperating the dependent and independent variables\n",
    "X = diabetes_df_copy.drop(['Outcome'], axis=1)\n",
    "y = diabetes_df_copy['Outcome']"
   ]
  },
  {
   "cell_type": "code",
   "execution_count": 15,
   "metadata": {},
   "outputs": [],
   "source": [
    "#Scalling the data\n",
    "from sklearn.preprocessing import scale\n",
    "X = scale(X)"
   ]
  },
  {
   "cell_type": "code",
   "execution_count": 16,
   "metadata": {},
   "outputs": [],
   "source": [
    "#Importing train-test split\n",
    "from sklearn.model_selection import train_test_split\n",
    "X_train, X_test, y_train, y_test = train_test_split(X, y, test_size = 0.3, random_state = 42)"
   ]
  },
  {
   "cell_type": "code",
   "execution_count": 17,
   "metadata": {},
   "outputs": [],
   "source": [
    "#One-Hot encoding\n",
    "from keras.utils import np_utils\n",
    "y_train = np_utils.to_categorical(y_train)"
   ]
  },
  {
   "cell_type": "code",
   "execution_count": 18,
   "metadata": {},
   "outputs": [],
   "source": [
    "#Builing the model\n",
    "model = Sequential()\n",
    "model.add(Dense(12, input_dim = 8, activation = 'relu'))\n",
    "model.add(Dense(8, activation = 'relu'))\n",
    "model.add(Dense(2, activation = 'sigmoid'))"
   ]
  },
  {
   "cell_type": "code",
   "execution_count": 19,
   "metadata": {},
   "outputs": [],
   "source": [
    "#Compiling the model\n",
    "model.compile(loss='binary_crossentropy', optimizer='adam', metrics=['accuracy'])"
   ]
  },
  {
   "cell_type": "code",
   "execution_count": 20,
   "metadata": {},
   "outputs": [
    {
     "name": "stdout",
     "output_type": "stream",
     "text": [
      "Epoch 1/150\n",
      "537/537 [==============================] - 0s 442us/step - loss: 0.6393 - accuracy: 0.6164\n",
      "Epoch 2/150\n",
      "537/537 [==============================] - 0s 145us/step - loss: 0.5764 - accuracy: 0.6918\n",
      "Epoch 3/150\n",
      "537/537 [==============================] - 0s 105us/step - loss: 0.5358 - accuracy: 0.7095\n",
      "Epoch 4/150\n",
      "537/537 [==============================] - 0s 108us/step - loss: 0.5080 - accuracy: 0.7486\n",
      "Epoch 5/150\n",
      "537/537 [==============================] - 0s 107us/step - loss: 0.4895 - accuracy: 0.7607\n",
      "Epoch 6/150\n",
      "537/537 [==============================] - 0s 99us/step - loss: 0.4745 - accuracy: 0.7709\n",
      "Epoch 7/150\n",
      "537/537 [==============================] - 0s 96us/step - loss: 0.4630 - accuracy: 0.7700\n",
      "Epoch 8/150\n",
      "537/537 [==============================] - 0s 111us/step - loss: 0.4551 - accuracy: 0.7756\n",
      "Epoch 9/150\n",
      "537/537 [==============================] - 0s 95us/step - loss: 0.4484 - accuracy: 0.7803\n",
      "Epoch 10/150\n",
      "537/537 [==============================] - 0s 109us/step - loss: 0.4441 - accuracy: 0.7849\n",
      "Epoch 11/150\n",
      "537/537 [==============================] - 0s 95us/step - loss: 0.4400 - accuracy: 0.7905\n",
      "Epoch 12/150\n",
      "537/537 [==============================] - 0s 104us/step - loss: 0.4368 - accuracy: 0.7933\n",
      "Epoch 13/150\n",
      "537/537 [==============================] - 0s 95us/step - loss: 0.4340 - accuracy: 0.7914\n",
      "Epoch 14/150\n",
      "537/537 [==============================] - 0s 109us/step - loss: 0.4315 - accuracy: 0.7942\n",
      "Epoch 15/150\n",
      "537/537 [==============================] - 0s 103us/step - loss: 0.4295 - accuracy: 0.7924\n",
      "Epoch 16/150\n",
      "537/537 [==============================] - 0s 94us/step - loss: 0.4277 - accuracy: 0.7942\n",
      "Epoch 17/150\n",
      "537/537 [==============================] - 0s 107us/step - loss: 0.4268 - accuracy: 0.7933\n",
      "Epoch 18/150\n",
      "537/537 [==============================] - 0s 97us/step - loss: 0.4247 - accuracy: 0.7989\n",
      "Epoch 19/150\n",
      "537/537 [==============================] - 0s 109us/step - loss: 0.4234 - accuracy: 0.7952\n",
      "Epoch 20/150\n",
      "537/537 [==============================] - 0s 100us/step - loss: 0.4220 - accuracy: 0.7914\n",
      "Epoch 21/150\n",
      "537/537 [==============================] - 0s 102us/step - loss: 0.4207 - accuracy: 0.7877\n",
      "Epoch 22/150\n",
      "537/537 [==============================] - 0s 104us/step - loss: 0.4199 - accuracy: 0.7886\n",
      "Epoch 23/150\n",
      "537/537 [==============================] - 0s 94us/step - loss: 0.4189 - accuracy: 0.7970\n",
      "Epoch 24/150\n",
      "537/537 [==============================] - 0s 106us/step - loss: 0.4168 - accuracy: 0.7942\n",
      "Epoch 25/150\n",
      "537/537 [==============================] - 0s 101us/step - loss: 0.4157 - accuracy: 0.7924\n",
      "Epoch 26/150\n",
      "537/537 [==============================] - 0s 103us/step - loss: 0.4155 - accuracy: 0.7942\n",
      "Epoch 27/150\n",
      "537/537 [==============================] - 0s 94us/step - loss: 0.4140 - accuracy: 0.7970\n",
      "Epoch 28/150\n",
      "537/537 [==============================] - 0s 107us/step - loss: 0.4123 - accuracy: 0.7980\n",
      "Epoch 29/150\n",
      "537/537 [==============================] - 0s 95us/step - loss: 0.4116 - accuracy: 0.7970\n",
      "Epoch 30/150\n",
      "537/537 [==============================] - 0s 107us/step - loss: 0.4108 - accuracy: 0.7989\n",
      "Epoch 31/150\n",
      "537/537 [==============================] - 0s 106us/step - loss: 0.4096 - accuracy: 0.7933\n",
      "Epoch 32/150\n",
      "537/537 [==============================] - 0s 94us/step - loss: 0.4080 - accuracy: 0.7952\n",
      "Epoch 33/150\n",
      "537/537 [==============================] - 0s 104us/step - loss: 0.4077 - accuracy: 0.7980\n",
      "Epoch 34/150\n",
      "537/537 [==============================] - 0s 95us/step - loss: 0.4062 - accuracy: 0.7970\n",
      "Epoch 35/150\n",
      "537/537 [==============================] - 0s 108us/step - loss: 0.4041 - accuracy: 0.7961\n",
      "Epoch 36/150\n",
      "537/537 [==============================] - 0s 95us/step - loss: 0.4030 - accuracy: 0.7970\n",
      "Epoch 37/150\n",
      "537/537 [==============================] - 0s 107us/step - loss: 0.4022 - accuracy: 0.7970\n",
      "Epoch 38/150\n",
      "537/537 [==============================] - 0s 95us/step - loss: 0.4004 - accuracy: 0.7980\n",
      "Epoch 39/150\n",
      "537/537 [==============================] - 0s 106us/step - loss: 0.4000 - accuracy: 0.7989\n",
      "Epoch 40/150\n",
      "537/537 [==============================] - 0s 100us/step - loss: 0.3992 - accuracy: 0.7998\n",
      "Epoch 41/150\n",
      "537/537 [==============================] - 0s 120us/step - loss: 0.3983 - accuracy: 0.7980\n",
      "Epoch 42/150\n",
      "537/537 [==============================] - 0s 102us/step - loss: 0.3975 - accuracy: 0.8007\n",
      "Epoch 43/150\n",
      "537/537 [==============================] - 0s 97us/step - loss: 0.3962 - accuracy: 0.7998\n",
      "Epoch 44/150\n",
      "537/537 [==============================] - 0s 108us/step - loss: 0.3954 - accuracy: 0.7998\n",
      "Epoch 45/150\n",
      "537/537 [==============================] - 0s 101us/step - loss: 0.3944 - accuracy: 0.7980\n",
      "Epoch 46/150\n",
      "537/537 [==============================] - 0s 102us/step - loss: 0.3934 - accuracy: 0.7998\n",
      "Epoch 47/150\n",
      "537/537 [==============================] - 0s 103us/step - loss: 0.3929 - accuracy: 0.8017\n",
      "Epoch 48/150\n",
      "537/537 [==============================] - 0s 95us/step - loss: 0.3916 - accuracy: 0.8035\n",
      "Epoch 49/150\n",
      "537/537 [==============================] - 0s 106us/step - loss: 0.3904 - accuracy: 0.7998\n",
      "Epoch 50/150\n",
      "537/537 [==============================] - 0s 94us/step - loss: 0.3906 - accuracy: 0.8035\n",
      "Epoch 51/150\n",
      "537/537 [==============================] - 0s 97us/step - loss: 0.3884 - accuracy: 0.8063\n",
      "Epoch 52/150\n",
      "537/537 [==============================] - 0s 95us/step - loss: 0.3878 - accuracy: 0.8073\n",
      "Epoch 53/150\n",
      "537/537 [==============================] - 0s 102us/step - loss: 0.3864 - accuracy: 0.8063\n",
      "Epoch 54/150\n",
      "537/537 [==============================] - 0s 96us/step - loss: 0.3866 - accuracy: 0.8073\n",
      "Epoch 55/150\n",
      "537/537 [==============================] - 0s 99us/step - loss: 0.3856 - accuracy: 0.8054\n",
      "Epoch 56/150\n",
      "537/537 [==============================] - 0s 116us/step - loss: 0.3846 - accuracy: 0.8045\n",
      "Epoch 57/150\n",
      "537/537 [==============================] - 0s 115us/step - loss: 0.3826 - accuracy: 0.8101\n",
      "Epoch 58/150\n",
      "537/537 [==============================] - 0s 96us/step - loss: 0.3824 - accuracy: 0.8082\n",
      "Epoch 59/150\n",
      "537/537 [==============================] - 0s 96us/step - loss: 0.3812 - accuracy: 0.8101\n",
      "Epoch 60/150\n",
      "537/537 [==============================] - 0s 104us/step - loss: 0.3809 - accuracy: 0.8101\n",
      "Epoch 61/150\n",
      "537/537 [==============================] - 0s 97us/step - loss: 0.3793 - accuracy: 0.8063\n",
      "Epoch 62/150\n",
      "537/537 [==============================] - 0s 96us/step - loss: 0.3786 - accuracy: 0.8063\n",
      "Epoch 63/150\n",
      "537/537 [==============================] - 0s 92us/step - loss: 0.3800 - accuracy: 0.8091\n",
      "Epoch 64/150\n",
      "537/537 [==============================] - 0s 102us/step - loss: 0.3777 - accuracy: 0.8082\n",
      "Epoch 65/150\n",
      "537/537 [==============================] - 0s 104us/step - loss: 0.3770 - accuracy: 0.8091\n",
      "Epoch 66/150\n",
      "537/537 [==============================] - 0s 94us/step - loss: 0.3762 - accuracy: 0.8045\n",
      "Epoch 67/150\n",
      "537/537 [==============================] - 0s 105us/step - loss: 0.3779 - accuracy: 0.8073\n",
      "Epoch 68/150\n",
      "537/537 [==============================] - 0s 92us/step - loss: 0.3740 - accuracy: 0.8101\n",
      "Epoch 69/150\n",
      "537/537 [==============================] - 0s 104us/step - loss: 0.3743 - accuracy: 0.8119\n",
      "Epoch 70/150\n",
      "537/537 [==============================] - 0s 93us/step - loss: 0.3727 - accuracy: 0.8110\n",
      "Epoch 71/150\n",
      "537/537 [==============================] - 0s 107us/step - loss: 0.3721 - accuracy: 0.8101\n",
      "Epoch 72/150\n",
      "537/537 [==============================] - 0s 93us/step - loss: 0.3715 - accuracy: 0.8138\n",
      "Epoch 73/150\n",
      "537/537 [==============================] - 0s 104us/step - loss: 0.3715 - accuracy: 0.8110\n",
      "Epoch 74/150\n",
      "537/537 [==============================] - 0s 93us/step - loss: 0.3701 - accuracy: 0.8073\n",
      "Epoch 75/150\n",
      "537/537 [==============================] - 0s 96us/step - loss: 0.3696 - accuracy: 0.8101\n",
      "Epoch 76/150\n",
      "537/537 [==============================] - 0s 107us/step - loss: 0.3692 - accuracy: 0.8110\n",
      "Epoch 77/150\n",
      "537/537 [==============================] - 0s 92us/step - loss: 0.3675 - accuracy: 0.8128\n",
      "Epoch 78/150\n",
      "537/537 [==============================] - 0s 107us/step - loss: 0.3680 - accuracy: 0.8091\n",
      "Epoch 79/150\n",
      "537/537 [==============================] - 0s 94us/step - loss: 0.3667 - accuracy: 0.8119\n",
      "Epoch 80/150\n",
      "537/537 [==============================] - 0s 104us/step - loss: 0.3662 - accuracy: 0.8119\n",
      "Epoch 81/150\n",
      "537/537 [==============================] - 0s 95us/step - loss: 0.3661 - accuracy: 0.8138\n",
      "Epoch 82/150\n",
      "537/537 [==============================] - 0s 103us/step - loss: 0.3639 - accuracy: 0.8138\n",
      "Epoch 83/150\n",
      "537/537 [==============================] - 0s 95us/step - loss: 0.3635 - accuracy: 0.8110\n",
      "Epoch 84/150\n",
      "537/537 [==============================] - 0s 103us/step - loss: 0.3627 - accuracy: 0.8156\n",
      "Epoch 85/150\n",
      "537/537 [==============================] - 0s 94us/step - loss: 0.3624 - accuracy: 0.8156\n",
      "Epoch 86/150\n",
      "537/537 [==============================] - 0s 94us/step - loss: 0.3615 - accuracy: 0.8166\n",
      "Epoch 87/150\n",
      "537/537 [==============================] - 0s 101us/step - loss: 0.3615 - accuracy: 0.8175\n",
      "Epoch 88/150\n",
      "537/537 [==============================] - 0s 93us/step - loss: 0.3609 - accuracy: 0.8101\n",
      "Epoch 89/150\n",
      "537/537 [==============================] - 0s 100us/step - loss: 0.3603 - accuracy: 0.8128\n",
      "Epoch 90/150\n",
      "537/537 [==============================] - 0s 94us/step - loss: 0.3588 - accuracy: 0.8156\n",
      "Epoch 91/150\n",
      "537/537 [==============================] - 0s 103us/step - loss: 0.3588 - accuracy: 0.8138\n",
      "Epoch 92/150\n",
      "537/537 [==============================] - 0s 93us/step - loss: 0.3579 - accuracy: 0.8166\n",
      "Epoch 93/150\n",
      "537/537 [==============================] - 0s 99us/step - loss: 0.3573 - accuracy: 0.8147\n",
      "Epoch 94/150\n",
      "537/537 [==============================] - 0s 94us/step - loss: 0.3566 - accuracy: 0.8156\n",
      "Epoch 95/150\n",
      "537/537 [==============================] - 0s 101us/step - loss: 0.3567 - accuracy: 0.8194\n",
      "Epoch 96/150\n",
      "537/537 [==============================] - 0s 93us/step - loss: 0.3570 - accuracy: 0.8128\n",
      "Epoch 97/150\n",
      "537/537 [==============================] - 0s 104us/step - loss: 0.3556 - accuracy: 0.8184\n",
      "Epoch 98/150\n",
      "537/537 [==============================] - 0s 103us/step - loss: 0.3545 - accuracy: 0.8166\n",
      "Epoch 99/150\n",
      "537/537 [==============================] - 0s 94us/step - loss: 0.3537 - accuracy: 0.8156\n",
      "Epoch 100/150\n",
      "537/537 [==============================] - 0s 102us/step - loss: 0.3529 - accuracy: 0.8175\n",
      "Epoch 101/150\n",
      "537/537 [==============================] - 0s 95us/step - loss: 0.3518 - accuracy: 0.8175\n",
      "Epoch 102/150\n",
      "537/537 [==============================] - 0s 102us/step - loss: 0.3511 - accuracy: 0.8147\n",
      "Epoch 103/150\n",
      "537/537 [==============================] - 0s 93us/step - loss: 0.3506 - accuracy: 0.8119\n",
      "Epoch 104/150\n",
      "537/537 [==============================] - 0s 95us/step - loss: 0.3502 - accuracy: 0.8147\n",
      "Epoch 105/150\n",
      "537/537 [==============================] - 0s 94us/step - loss: 0.3494 - accuracy: 0.8138\n",
      "Epoch 106/150\n",
      "537/537 [==============================] - 0s 101us/step - loss: 0.3479 - accuracy: 0.8194\n",
      "Epoch 107/150\n",
      "537/537 [==============================] - 0s 95us/step - loss: 0.3482 - accuracy: 0.8128\n",
      "Epoch 108/150\n",
      "537/537 [==============================] - 0s 101us/step - loss: 0.3466 - accuracy: 0.8175\n",
      "Epoch 109/150\n",
      "537/537 [==============================] - 0s 92us/step - loss: 0.3467 - accuracy: 0.8184\n",
      "Epoch 110/150\n",
      "537/537 [==============================] - 0s 99us/step - loss: 0.3459 - accuracy: 0.8212\n",
      "Epoch 111/150\n",
      "537/537 [==============================] - 0s 104us/step - loss: 0.3448 - accuracy: 0.8166\n",
      "Epoch 112/150\n",
      "537/537 [==============================] - 0s 93us/step - loss: 0.3453 - accuracy: 0.8222\n",
      "Epoch 113/150\n",
      "537/537 [==============================] - 0s 101us/step - loss: 0.3440 - accuracy: 0.8212\n",
      "Epoch 114/150\n",
      "537/537 [==============================] - 0s 94us/step - loss: 0.3438 - accuracy: 0.8184\n",
      "Epoch 115/150\n",
      "537/537 [==============================] - 0s 103us/step - loss: 0.3431 - accuracy: 0.8184\n",
      "Epoch 116/150\n",
      "537/537 [==============================] - 0s 92us/step - loss: 0.3419 - accuracy: 0.8184\n",
      "Epoch 117/150\n",
      "537/537 [==============================] - 0s 101us/step - loss: 0.3411 - accuracy: 0.8259\n",
      "Epoch 118/150\n",
      "537/537 [==============================] - 0s 96us/step - loss: 0.3403 - accuracy: 0.8175\n",
      "Epoch 119/150\n",
      "537/537 [==============================] - 0s 103us/step - loss: 0.3408 - accuracy: 0.8212\n",
      "Epoch 120/150\n",
      "537/537 [==============================] - 0s 117us/step - loss: 0.3409 - accuracy: 0.8212\n",
      "Epoch 121/150\n",
      "537/537 [==============================] - 0s 108us/step - loss: 0.3387 - accuracy: 0.8222\n",
      "Epoch 122/150\n",
      "537/537 [==============================] - 0s 117us/step - loss: 0.3389 - accuracy: 0.8222\n",
      "Epoch 123/150\n",
      "537/537 [==============================] - 0s 107us/step - loss: 0.3381 - accuracy: 0.8212\n",
      "Epoch 124/150\n",
      "537/537 [==============================] - 0s 99us/step - loss: 0.3372 - accuracy: 0.8212\n",
      "Epoch 125/150\n",
      "537/537 [==============================] - 0s 103us/step - loss: 0.3363 - accuracy: 0.8222\n",
      "Epoch 126/150\n",
      "537/537 [==============================] - 0s 95us/step - loss: 0.3359 - accuracy: 0.8250\n",
      "Epoch 127/150\n",
      "537/537 [==============================] - 0s 104us/step - loss: 0.3349 - accuracy: 0.8203\n",
      "Epoch 128/150\n",
      "537/537 [==============================] - 0s 97us/step - loss: 0.3341 - accuracy: 0.8194\n",
      "Epoch 129/150\n",
      "537/537 [==============================] - 0s 113us/step - loss: 0.3339 - accuracy: 0.8296\n",
      "Epoch 130/150\n",
      "537/537 [==============================] - 0s 108us/step - loss: 0.3324 - accuracy: 0.8296\n",
      "Epoch 131/150\n",
      "537/537 [==============================] - 0s 120us/step - loss: 0.3325 - accuracy: 0.8277\n",
      "Epoch 132/150\n",
      "537/537 [==============================] - 0s 121us/step - loss: 0.3327 - accuracy: 0.8268\n",
      "Epoch 133/150\n",
      "537/537 [==============================] - 0s 117us/step - loss: 0.3315 - accuracy: 0.8240\n",
      "Epoch 134/150\n",
      "537/537 [==============================] - 0s 122us/step - loss: 0.3313 - accuracy: 0.8268\n",
      "Epoch 135/150\n",
      "537/537 [==============================] - 0s 115us/step - loss: 0.3308 - accuracy: 0.8268\n",
      "Epoch 136/150\n",
      "537/537 [==============================] - 0s 112us/step - loss: 0.3297 - accuracy: 0.8259\n",
      "Epoch 137/150\n",
      "537/537 [==============================] - 0s 117us/step - loss: 0.3294 - accuracy: 0.8287\n",
      "Epoch 138/150\n",
      "537/537 [==============================] - 0s 123us/step - loss: 0.3288 - accuracy: 0.8324\n",
      "Epoch 139/150\n",
      "537/537 [==============================] - 0s 113us/step - loss: 0.3272 - accuracy: 0.8315\n",
      "Epoch 140/150\n",
      "537/537 [==============================] - 0s 113us/step - loss: 0.3275 - accuracy: 0.8361\n",
      "Epoch 141/150\n",
      "537/537 [==============================] - 0s 156us/step - loss: 0.3274 - accuracy: 0.8268\n",
      "Epoch 142/150\n",
      "537/537 [==============================] - 0s 127us/step - loss: 0.3262 - accuracy: 0.8296\n",
      "Epoch 143/150\n",
      "537/537 [==============================] - 0s 127us/step - loss: 0.3263 - accuracy: 0.8268\n",
      "Epoch 144/150\n",
      "537/537 [==============================] - 0s 113us/step - loss: 0.3262 - accuracy: 0.8296\n",
      "Epoch 145/150\n",
      "537/537 [==============================] - 0s 109us/step - loss: 0.3248 - accuracy: 0.8324\n",
      "Epoch 146/150\n",
      "537/537 [==============================] - 0s 110us/step - loss: 0.3253 - accuracy: 0.8324\n",
      "Epoch 147/150\n",
      "537/537 [==============================] - 0s 112us/step - loss: 0.3239 - accuracy: 0.8399\n",
      "Epoch 148/150\n",
      "537/537 [==============================] - 0s 107us/step - loss: 0.3241 - accuracy: 0.8296\n",
      "Epoch 149/150\n",
      "537/537 [==============================] - 0s 103us/step - loss: 0.3232 - accuracy: 0.8343\n",
      "Epoch 150/150\n",
      "537/537 [==============================] - 0s 102us/step - loss: 0.3232 - accuracy: 0.8380\n"
     ]
    },
    {
     "data": {
      "text/plain": [
       "<keras.callbacks.callbacks.History at 0x7f88d804fbd0>"
      ]
     },
     "execution_count": 20,
     "metadata": {},
     "output_type": "execute_result"
    }
   ],
   "source": [
    "#Fitting the model\n",
    "model.fit(X_train, y_train, epochs=150, batch_size=10)"
   ]
  },
  {
   "cell_type": "code",
   "execution_count": 21,
   "metadata": {},
   "outputs": [
    {
     "data": {
      "text/plain": [
       "0.7575757575757576"
      ]
     },
     "execution_count": 21,
     "metadata": {},
     "output_type": "execute_result"
    }
   ],
   "source": [
    "#Checking the accuracy\n",
    "from sklearn.metrics import accuracy_score\n",
    "y_pred = model.predict(X_test)\n",
    "y_pred = np.argmax(y_pred, axis = 1)\n",
    "accuracy_score(y_test, y_pred)"
   ]
  },
  {
   "cell_type": "code",
   "execution_count": 22,
   "metadata": {},
   "outputs": [
    {
     "data": {
      "text/plain": [
       "Text(0, 0.5, 'loss')"
      ]
     },
     "execution_count": 22,
     "metadata": {},
     "output_type": "execute_result"
    },
    {
     "data": {
      "image/png": "[encoded data removed]",
      "text/plain": [
       "<Figure size 432x288 with 1 Axes>"
      ]
     },
     "metadata": {
      "needs_background": "light"
     },
     "output_type": "display_data"
    }
   ],
   "source": [
    "#Plotting the loss curve\n",
    "plt.plot(model.history.epoch, model.history.history['loss'])\n",
    "plt.xlabel('epochs')\n",
    "plt.ylabel('loss')"
   ]
  },
  {
   "cell_type": "code",
   "execution_count": 23,
   "metadata": {},
   "outputs": [
    {
     "data": {
      "text/plain": [
       "Text(0.5, 15.0, 'Predicted label')"
      ]
     },
     "execution_count": 23,
     "metadata": {},
     "output_type": "execute_result"
    },
    {
     "data": {
      "image/png": "[encoded data removed]",
      "text/plain": [
       "<Figure size 432x288 with 2 Axes>"
      ]
     },
     "metadata": {
      "needs_background": "light"
     },
     "output_type": "display_data"
    }
   ],
   "source": [
    "#graphing the confusion matrix\n",
    "import seaborn as sns\n",
    "from sklearn import metrics\n",
    "cnf_matrix = metrics.confusion_matrix(y_test, y_pred)\n",
    "p = sns.heatmap(pd.DataFrame(cnf_matrix), annot=True, cmap=\"YlGnBu\" ,fmt='g')\n",
    "plt.title('Confusion matrix', y=1.1)\n",
    "plt.ylabel('Actual label')\n",
    "plt.xlabel('Predicted label')"
   ]
  },
  {
   "cell_type": "code",
   "execution_count": 24,
   "metadata": {},
   "outputs": [
    {
     "name": "stdout",
     "output_type": "stream",
     "text": [
      "              precision    recall  f1-score   support\n",
      "\n",
      "           0       0.81      0.81      0.81       151\n",
      "           1       0.65      0.65      0.65        80\n",
      "\n",
      "    accuracy                           0.76       231\n",
      "   macro avg       0.73      0.73      0.73       231\n",
      "weighted avg       0.76      0.76      0.76       231\n",
      "\n"
     ]
    }
   ],
   "source": [
    "#importing classification report\n",
    "from sklearn.metrics import classification_report\n",
    "print(classification_report(y_test,y_pred))"
   ]
  },
  {
   "cell_type": "code",
   "execution_count": 25,
   "metadata": {},
   "outputs": [],
   "source": [
    "#plotting ROC Curve\n",
    "from sklearn.metrics import roc_curve\n",
    "y_pred_proba = model.predict_proba(X_test)[:,1]\n",
    "fpr, tpr, thresholds = roc_curve(y_test, y_pred_proba)"
   ]
  },
  {
   "cell_type": "code",
   "execution_count": 27,
   "metadata": {},
   "outputs": [
    {
     "data": {
      "image/png": "[encoded data removed]",
      "text/plain": [
       "<Figure size 432x288 with 1 Axes>"
      ]
     },
     "metadata": {
      "needs_background": "light"
     },
     "output_type": "display_data"
    }
   ],
   "source": [
    "plt.plot([0,1],[0,1])\n",
    "plt.plot(fpr,tpr)\n",
    "plt.xlabel('fpr')\n",
    "plt.ylabel('tpr')\n",
    "plt.title('ROC curve')\n",
    "plt.show()"
   ]
  },
  {
   "cell_type": "code",
   "execution_count": null,
   "metadata": {},
   "outputs": [],
   "source": []
  }
 ],
 "metadata": {
  "kernelspec": {
   "display_name": "Python 3",
   "language": "python",
   "name": "python3"
  },
  "language_info": {
   "codemirror_mode": {
    "name": "ipython",
    "version": 3
   },
   "file_extension": ".py",
   "mimetype": "text/x-python",
   "name": "python",
   "nbconvert_exporter": "python",
   "pygments_lexer": "ipython3",
   "version": "3.7.6"
  }
 },
 "nbformat": 4,
 "nbformat_minor": 4
}
